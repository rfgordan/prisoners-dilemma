{
 "cells": [
  {
   "cell_type": "code",
   "execution_count": 2,
   "metadata": {},
   "outputs": [],
   "source": [
    "import pandas as pd\n",
    "import numpy as np\n",
    "import sys\n",
    "\n",
    "sys.path.append('..')\n",
    "from src.Game import Game, GameFactory, Prisoner"
   ]
  },
  {
   "cell_type": "code",
   "execution_count": 3,
   "metadata": {},
   "outputs": [
    {
     "name": "stdout",
     "output_type": "stream",
     "text": [
      "p1 score: 2  p2 score: 2  p1 state: 0  p2 state: 0\n",
      "p1 score: 4  p2 score: 4  p1 state: 0  p2 state: 0\n",
      "p1 score: 6  p2 score: 6  p1 state: 0  p2 state: 0\n",
      "p1 score: 8  p2 score: 8  p1 state: 0  p2 state: 0\n",
      "p1 score: 10  p2 score: 10  p1 state: 0  p2 state: 0\n",
      "p1 score: 12  p2 score: 12  p1 state: 0  p2 state: 0\n",
      "p1 score: 14  p2 score: 14  p1 state: 0  p2 state: 0\n",
      "p1 score: 16  p2 score: 16  p1 state: 0  p2 state: 0\n",
      "p1 score: 18  p2 score: 18  p1 state: 0  p2 state: 0\n",
      "p1 score: 20  p2 score: 20  p1 state: 0  p2 state: 0\n",
      "p1 score: 22  p2 score: 22  p1 state: 0  p2 state: 1\n",
      "p1 score: 22  p2 score: 25  p1 state: 0  p2 state: 0\n",
      "p1 score: 24  p2 score: 27  p1 state: 0  p2 state: 0\n",
      "p1 score: 26  p2 score: 29  p1 state: 0  p2 state: 0\n",
      "p1 score: 28  p2 score: 31  p1 state: 0  p2 state: 0\n",
      "p1 score: 30  p2 score: 33  p1 state: 0  p2 state: 0\n",
      "p1 score: 32  p2 score: 35  p1 state: 0  p2 state: 0\n",
      "p1 score: 34  p2 score: 37  p1 state: 0  p2 state: 0\n",
      "p1 score: 36  p2 score: 39  p1 state: 0  p2 state: 0\n",
      "p1 score: 38  p2 score: 41  p1 state: 0  p2 state: 1\n",
      "p1 score: 38  p2 score: 44  p1 state: 0  p2 state: 0\n",
      "p1 score: 40  p2 score: 46  p1 state: 0  p2 state: 0\n",
      "p1 score: 42  p2 score: 48  p1 state: 0  p2 state: 0\n",
      "p1 score: 44  p2 score: 50  p1 state: 0  p2 state: 0\n",
      "p1 score: 46  p2 score: 52  p1 state: 0  p2 state: 0\n",
      "p1 score: 48  p2 score: 54  p1 state: 0  p2 state: 0\n",
      "p1 score: 50  p2 score: 56  p1 state: 0  p2 state: 0\n",
      "p1 score: 52  p2 score: 58  p1 state: 0  p2 state: 0\n",
      "p1 score: 54  p2 score: 60  p1 state: 0  p2 state: 0\n",
      "p1 score: 56  p2 score: 62  p1 state: 0  p2 state: 0\n",
      "p1 score: 58  p2 score: 64  p1 state: 0  p2 state: 0\n",
      "p1 score: 60  p2 score: 66  p1 state: 0  p2 state: 0\n",
      "p1 score: 62  p2 score: 68  p1 state: 0  p2 state: 1\n",
      "p1 score: 62  p2 score: 71  p1 state: 0  p2 state: 0\n",
      "p1 score: 64  p2 score: 73  p1 state: 0  p2 state: 1\n",
      "p1 score: 64  p2 score: 76  p1 state: 0  p2 state: 0\n",
      "p1 score: 66  p2 score: 78  p1 state: 0  p2 state: 0\n",
      "p1 score: 68  p2 score: 80  p1 state: 0  p2 state: 0\n",
      "p1 score: 70  p2 score: 82  p1 state: 0  p2 state: 0\n",
      "p1 score: 72  p2 score: 84  p1 state: 0  p2 state: 0\n",
      "p1 score: 74  p2 score: 86  p1 state: 0  p2 state: 0\n",
      "p1 score: 76  p2 score: 88  p1 state: 0  p2 state: 1\n",
      "p1 score: 76  p2 score: 91  p1 state: 0  p2 state: 0\n",
      "p1 score: 78  p2 score: 93  p1 state: 0  p2 state: 0\n",
      "p1 score: 80  p2 score: 95  p1 state: 0  p2 state: 0\n",
      "p1 score: 82  p2 score: 97  p1 state: 0  p2 state: 0\n",
      "p1 score: 84  p2 score: 99  p1 state: 0  p2 state: 0\n",
      "p1 score: 86  p2 score: 101  p1 state: 0  p2 state: 0\n",
      "p1 score: 88  p2 score: 103  p1 state: 0  p2 state: 0\n",
      "p1 score: 90  p2 score: 105  p1 state: 0  p2 state: 0\n",
      "p1 score: 92  p2 score: 107  p1 state: 0  p2 state: 0\n",
      "p1 score: 94  p2 score: 109  p1 state: 0  p2 state: 0\n",
      "p1 score: 96  p2 score: 111  p1 state: 0  p2 state: 0\n",
      "p1 score: 98  p2 score: 113  p1 state: 0  p2 state: 1\n",
      "p1 score: 98  p2 score: 116  p1 state: 0  p2 state: 0\n",
      "p1 score: 100  p2 score: 118  p1 state: 0  p2 state: 0\n",
      "p1 score: 102  p2 score: 120  p1 state: 0  p2 state: 0\n",
      "p1 score: 104  p2 score: 122  p1 state: 0  p2 state: 0\n",
      "p1 score: 106  p2 score: 124  p1 state: 0  p2 state: 0\n",
      "p1 score: 108  p2 score: 126  p1 state: 0  p2 state: 0\n",
      "p1 score: 110  p2 score: 128  p1 state: 0  p2 state: 1\n",
      "p1 score: 110  p2 score: 131  p1 state: 0  p2 state: 1\n",
      "p1 score: 110  p2 score: 134  p1 state: 0  p2 state: 0\n",
      "p1 score: 112  p2 score: 136  p1 state: 0  p2 state: 0\n",
      "p1 score: 114  p2 score: 138  p1 state: 0  p2 state: 1\n",
      "p1 score: 114  p2 score: 141  p1 state: 0  p2 state: 0\n",
      "p1 score: 116  p2 score: 143  p1 state: 0  p2 state: 0\n",
      "p1 score: 118  p2 score: 145  p1 state: 0  p2 state: 0\n",
      "p1 score: 120  p2 score: 147  p1 state: 0  p2 state: 0\n",
      "p1 score: 122  p2 score: 149  p1 state: 0  p2 state: 0\n",
      "p1 score: 124  p2 score: 151  p1 state: 0  p2 state: 0\n",
      "p1 score: 126  p2 score: 153  p1 state: 0  p2 state: 0\n",
      "p1 score: 128  p2 score: 155  p1 state: 0  p2 state: 0\n",
      "p1 score: 130  p2 score: 157  p1 state: 0  p2 state: 0\n",
      "p1 score: 132  p2 score: 159  p1 state: 0  p2 state: 0\n",
      "p1 score: 134  p2 score: 161  p1 state: 0  p2 state: 0\n",
      "p1 score: 136  p2 score: 163  p1 state: 0  p2 state: 0\n",
      "p1 score: 138  p2 score: 165  p1 state: 0  p2 state: 0\n",
      "p1 score: 140  p2 score: 167  p1 state: 0  p2 state: 0\n",
      "p1 score: 142  p2 score: 169  p1 state: 0  p2 state: 0\n",
      "p1 score: 144  p2 score: 171  p1 state: 0  p2 state: 0\n",
      "p1 score: 146  p2 score: 173  p1 state: 0  p2 state: 0\n",
      "p1 score: 148  p2 score: 175  p1 state: 0  p2 state: 1\n",
      "p1 score: 148  p2 score: 178  p1 state: 0  p2 state: 0\n",
      "p1 score: 150  p2 score: 180  p1 state: 0  p2 state: 0\n",
      "p1 score: 152  p2 score: 182  p1 state: 0  p2 state: 0\n",
      "p1 score: 154  p2 score: 184  p1 state: 0  p2 state: 0\n",
      "p1 score: 156  p2 score: 186  p1 state: 0  p2 state: 0\n",
      "p1 score: 158  p2 score: 188  p1 state: 0  p2 state: 0\n",
      "p1 score: 160  p2 score: 190  p1 state: 0  p2 state: 0\n",
      "p1 score: 162  p2 score: 192  p1 state: 0  p2 state: 0\n",
      "p1 score: 164  p2 score: 194  p1 state: 0  p2 state: 0\n",
      "p1 score: 166  p2 score: 196  p1 state: 0  p2 state: 0\n",
      "p1 score: 168  p2 score: 198  p1 state: 0  p2 state: 0\n",
      "p1 score: 170  p2 score: 200  p1 state: 0  p2 state: 0\n",
      "p1 score: 172  p2 score: 202  p1 state: 0  p2 state: 0\n",
      "p1 score: 174  p2 score: 204  p1 state: 0  p2 state: 0\n",
      "p1 score: 176  p2 score: 206  p1 state: 0  p2 state: 0\n",
      "p1 score: 178  p2 score: 208  p1 state: 0  p2 state: 0\n",
      "p1 score: 180  p2 score: 210  p1 state: 0  p2 state: 0\n"
     ]
    }
   ],
   "source": [
    "my_bot = '1.0 1.0 1.0 1.0 1.0'\n",
    "my_bot_path = '../data/my_bot.txt'\n",
    "tittat_path = '../data/tit_for_tat.txt'\n",
    "res_path = '../data'\n",
    "\n",
    "with open(my_bot_path, 'w') as f:\n",
    "    f.write(my_bot)\n",
    "\n",
    "g = GameFactory.create_game(my_bot_path, tittat_path, res_path)\n",
    "g.run_game()\n",
    "g.logger.write_data()"
   ]
  },
  {
   "cell_type": "code",
   "execution_count": 7,
   "metadata": {},
   "outputs": [],
   "source": [
    "df = pd.read_csv('../data/my_game.csv')"
   ]
  },
  {
   "cell_type": "code",
   "execution_count": 8,
   "metadata": {},
   "outputs": [
    {
     "data": {
      "text/html": [
       "<div>\n",
       "<style scoped>\n",
       "    .dataframe tbody tr th:only-of-type {\n",
       "        vertical-align: middle;\n",
       "    }\n",
       "\n",
       "    .dataframe tbody tr th {\n",
       "        vertical-align: top;\n",
       "    }\n",
       "\n",
       "    .dataframe thead th {\n",
       "        text-align: right;\n",
       "    }\n",
       "</style>\n",
       "<table border=\"1\" class=\"dataframe\">\n",
       "  <thead>\n",
       "    <tr style=\"text-align: right;\">\n",
       "      <th></th>\n",
       "      <th>prisoner1_payoff</th>\n",
       "      <th>prisoner2_payoff</th>\n",
       "      <th>prisoner1_state</th>\n",
       "      <th>prisoner2_state</th>\n",
       "    </tr>\n",
       "  </thead>\n",
       "  <tbody>\n",
       "    <tr>\n",
       "      <th>0</th>\n",
       "      <td>2</td>\n",
       "      <td>2</td>\n",
       "      <td>0</td>\n",
       "      <td>0</td>\n",
       "    </tr>\n",
       "    <tr>\n",
       "      <th>1</th>\n",
       "      <td>4</td>\n",
       "      <td>4</td>\n",
       "      <td>0</td>\n",
       "      <td>0</td>\n",
       "    </tr>\n",
       "    <tr>\n",
       "      <th>2</th>\n",
       "      <td>6</td>\n",
       "      <td>6</td>\n",
       "      <td>0</td>\n",
       "      <td>0</td>\n",
       "    </tr>\n",
       "    <tr>\n",
       "      <th>3</th>\n",
       "      <td>8</td>\n",
       "      <td>8</td>\n",
       "      <td>0</td>\n",
       "      <td>0</td>\n",
       "    </tr>\n",
       "    <tr>\n",
       "      <th>4</th>\n",
       "      <td>10</td>\n",
       "      <td>10</td>\n",
       "      <td>0</td>\n",
       "      <td>0</td>\n",
       "    </tr>\n",
       "  </tbody>\n",
       "</table>\n",
       "</div>"
      ],
      "text/plain": [
       "   prisoner1_payoff  prisoner2_payoff  prisoner1_state  prisoner2_state\n",
       "0                 2                 2                0                0\n",
       "1                 4                 4                0                0\n",
       "2                 6                 6                0                0\n",
       "3                 8                 8                0                0\n",
       "4                10                10                0                0"
      ]
     },
     "execution_count": 8,
     "metadata": {},
     "output_type": "execute_result"
    }
   ],
   "source": [
    "df.head()"
   ]
  },
  {
   "cell_type": "code",
   "execution_count": 9,
   "metadata": {},
   "outputs": [
    {
     "data": {
      "text/plain": [
       "<AxesSubplot:>"
      ]
     },
     "execution_count": 9,
     "metadata": {},
     "output_type": "execute_result"
    },
    {
     "data": {
      "image/png": "[encoded data removed]",
      "text/plain": [
       "<Figure size 432x288 with 1 Axes>"
      ]
     },
     "metadata": {
      "needs_background": "light"
     },
     "output_type": "display_data"
    }
   ],
   "source": [
    "df[['prisoner1_payoff', 'prisoner2_payoff']].plot.line()"
   ]
  },
  {
   "cell_type": "code",
   "execution_count": 10,
   "metadata": {},
   "outputs": [
    {
     "data": {
      "text/plain": [
       "<AxesSubplot:>"
      ]
     },
     "execution_count": 10,
     "metadata": {},
     "output_type": "execute_result"
    },
    {
     "data": {
      "image/png": "[encoded data removed]",
      "text/plain": [
       "<Figure size 432x288 with 1 Axes>"
      ]
     },
     "metadata": {
      "needs_background": "light"
     },
     "output_type": "display_data"
    }
   ],
   "source": [
    "df.prisoner1_state.plot.line()"
   ]
  },
  {
   "cell_type": "code",
   "execution_count": 11,
   "metadata": {},
   "outputs": [
    {
     "data": {
      "text/plain": [
       "<AxesSubplot:>"
      ]
     },
     "execution_count": 11,
     "metadata": {},
     "output_type": "execute_result"
    },
    {
     "data": {
      "image/png": "[encoded data removed]",
      "text/plain": [
       "<Figure size 432x288 with 1 Axes>"
      ]
     },
     "metadata": {
      "needs_background": "light"
     },
     "output_type": "display_data"
    }
   ],
   "source": [
    "df.prisoner2_state.plot.line()"
   ]
  },
  {
   "cell_type": "code",
   "execution_count": null,
   "metadata": {},
   "outputs": [],
   "source": []
  }
 ],
 "metadata": {
  "interpreter": {
   "hash": "edee57bf8b53d54803479c28fb64f997a18fd101e8b394ebab53b1137dd7f9d3"
  },
  "kernelspec": {
   "display_name": "Python 3.10.0 ('ipd')",
   "language": "python",
   "name": "python3"
  },
  "language_info": {
   "codemirror_mode": {
    "name": "ipython",
    "version": 3
   },
   "file_extension": ".py",
   "mimetype": "text/x-python",
   "name": "python",
   "nbconvert_exporter": "python",
   "pygments_lexer": "ipython3",
   "version": "3.9.7"
  },
  "orig_nbformat": 4
 },
 "nbformat": 4,
 "nbformat_minor": 2
}
